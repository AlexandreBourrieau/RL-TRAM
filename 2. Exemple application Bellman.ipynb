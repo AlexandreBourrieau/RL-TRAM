{
  "cells": [
    {
      "cell_type": "markdown",
      "metadata": {
        "id": "XGJ8yJ8W_3sA"
      },
      "source": [
        "#**Application des équations de Bellman sur un projet réel**"
      ]
    },
    {
      "cell_type": "markdown",
      "metadata": {
        "id": "sZ1BfXx-VlXG"
      },
      "source": [
        "##**1. Téléchargement du programme Python**"
      ]
    },
    {
      "cell_type": "code",
      "execution_count": null,
      "metadata": {
        "id": "HqSTPwgUdiPc"
      },
      "outputs": [],
      "source": [
        "!git clone \"https://github.com/AlexandreBourrieau/ApplicationRL.git\""
      ]
    },
    {
      "cell_type": "code",
      "execution_count": null,
      "metadata": {
        "id": "BN6clL6qiaA8"
      },
      "outputs": [],
      "source": [
        "import os\n",
        "import sys\n",
        "\n",
        "sys.path.insert(1, \"/content/ApplicationRL\")"
      ]
    },
    {
      "cell_type": "code",
      "execution_count": null,
      "metadata": {
        "id": "_nfBhG1OfdHt"
      },
      "outputs": [],
      "source": [
        "!pip -q install meshio"
      ]
    },
    {
      "cell_type": "markdown",
      "metadata": {
        "id": "dyBVL4yAdqXs"
      },
      "source": [
        "##**2. Découverte de l'environnement de travail**"
      ]
    },
    {
      "cell_type": "code",
      "execution_count": null,
      "metadata": {
        "id": "-aMQdQQUd6UD"
      },
      "outputs": [],
      "source": [
        "from magasin import Magasin\n",
        "from utils import bgr8_to_jpeg\n",
        "import ipywidgets\n",
        "import numpy as np\n",
        "\n",
        "from IPython.display import display"
      ]
    },
    {
      "cell_type": "markdown",
      "metadata": {
        "id": "cEUGbRcedypL"
      },
      "source": [
        "#####**2.1 Instanciation de la classe Magasin**"
      ]
    },
    {
      "cell_type": "code",
      "execution_count": null,
      "metadata": {
        "id": "UCNAws5ogqli"
      },
      "outputs": [],
      "source": [
        "Magasin = Magasin(\"ApplicationRL/maillage_carte.msh\",\"ApplicationRL/image_magasin.png\")"
      ]
    },
    {
      "cell_type": "code",
      "execution_count": null,
      "metadata": {
        "id": "pIAYMnCyjKAj"
      },
      "outputs": [],
      "source": [
        "Magasin.RECOMPENSE = 1\n",
        "Magasin.RECOMPENSE_MUR = -10\n",
        "Magasin.RECOMPENSE_NON_CIBLE = 0\n",
        "Magasin.PROBA_MAX = 0.98\n",
        "\n",
        "Magasin.RAZ()"
      ]
    },
    {
      "cell_type": "markdown",
      "metadata": {
        "id": "hvfO0TPMn0Tj"
      },
      "source": [
        "#####**2.2 Saisie de l'objectif**"
      ]
    },
    {
      "cell_type": "code",
      "execution_count": null,
      "metadata": {
        "id": "_5OTyzeQn37g"
      },
      "outputs": [],
      "source": [
        "def AfficheSelectionImage(change):\n",
        "    numero = change['new']\n",
        "    Magasin.ETAT_CIBLE = numero\n",
        "    widget_image.value = bgr8_to_jpeg(Magasin.AfficheObjectifSurImage())"
      ]
    },
    {
      "cell_type": "code",
      "execution_count": null,
      "metadata": {
        "id": "6w0fBkuEn7CA"
      },
      "outputs": [],
      "source": [
        "# Création des widgets\n",
        "widget_image = ipywidgets.Image(format='png',value=bgr8_to_jpeg(Magasin.image_magasin),width=640)\n",
        "slider_numero = ipywidgets.IntSlider(value=80,min=0,max=Magasin.nombre_etats-1)\n",
        "\n",
        "# Création du lien avec le slider\n",
        "slider_numero.observe(AfficheSelectionImage, names='value')\n",
        "\n",
        "# Création de l'interface d'acquisition\n",
        "widget_presentation = ipywidgets.VBox([widget_image, slider_numero])\n",
        "\n",
        "display(widget_presentation)"
      ]
    },
    {
      "cell_type": "markdown",
      "metadata": {
        "id": "DMpE7JJsoQLr"
      },
      "source": [
        "#####**2.3 Format de la table de transition**"
      ]
    },
    {
      "cell_type": "code",
      "execution_count": null,
      "metadata": {
        "id": "aiB4JnrYoTu0"
      },
      "outputs": [],
      "source": [
        "Magasin.df_table_transition"
      ]
    },
    {
      "cell_type": "markdown",
      "metadata": {
        "id": "Zs1gWDsZob0J"
      },
      "source": [
        "Le format de la variable table_transitions est le suivant :\n",
        "\n",
        "- (nbr_etats, nbr_actions, nbr_etat_suivant,['idex_etat_suivant','proba_transition','recompense'])\n",
        "= (nbr_etats, 3, 3,[1,1,1])"
      ]
    },
    {
      "cell_type": "markdown",
      "metadata": {
        "id": "Yv0CwmzEoklA"
      },
      "source": [
        "Regardons maintenant vers quels états nous dirige une action particulière sur un état donné :"
      ]
    },
    {
      "cell_type": "code",
      "execution_count": null,
      "metadata": {
        "id": "59RxHo20onbR"
      },
      "outputs": [],
      "source": [
        "etat = 301\n",
        "action = 2\n",
        "\n",
        "Magasin.table_transitions[etat,action,:]['index_etat_suivant']"
      ]
    },
    {
      "cell_type": "markdown",
      "metadata": {
        "id": "ETkYFyc7oyo8"
      },
      "source": [
        "Regardons les probabilités associées à cette action :"
      ]
    },
    {
      "cell_type": "code",
      "execution_count": null,
      "metadata": {
        "id": "SDEu6wmoo0a6"
      },
      "outputs": [],
      "source": [
        "Magasin.table_transitions[etat,action,:]['proba_transition']"
      ]
    },
    {
      "cell_type": "markdown",
      "metadata": {
        "id": "E_OiXu5vo6Ny"
      },
      "source": [
        "Puis les récompenses obtenues :\n"
      ]
    },
    {
      "cell_type": "code",
      "execution_count": null,
      "metadata": {
        "id": "Pb0QLWRDo8FC"
      },
      "outputs": [],
      "source": [
        "Magasin.table_transitions[etat,action,:]['recompense']"
      ]
    },
    {
      "cell_type": "markdown",
      "metadata": {
        "id": "-sr9v2oIpI0a"
      },
      "source": [
        "#####**2.4 Format de la table des valeurs d'action**"
      ]
    },
    {
      "cell_type": "code",
      "execution_count": null,
      "metadata": {
        "id": "Z1S3NdfipNbi"
      },
      "outputs": [],
      "source": [
        "Magasin.df_Qtable"
      ]
    },
    {
      "cell_type": "markdown",
      "metadata": {
        "id": "jyZ8hubWpSKL"
      },
      "source": [
        "Le format de la variable table_valeur est le suivant : (nbr_etats, nbr_actions)"
      ]
    },
    {
      "cell_type": "code",
      "execution_count": null,
      "metadata": {
        "id": "CeXxJaOFpTza"
      },
      "outputs": [],
      "source": [
        "Magasin.Q_table[etat,:]"
      ]
    },
    {
      "cell_type": "markdown",
      "metadata": {
        "id": "u9hglYgPpZk7"
      },
      "source": [
        "#####**2.5 Format de la table des valeurs d'état**"
      ]
    },
    {
      "cell_type": "code",
      "execution_count": null,
      "metadata": {
        "id": "sOhZxNeYpc4E"
      },
      "outputs": [],
      "source": [
        "Magasin.df_Vtable"
      ]
    },
    {
      "cell_type": "markdown",
      "metadata": {
        "id": "7ghKA9tPpfd1"
      },
      "source": [
        "Le format de la variable Vtable est le suivant : (nbr_etats,)"
      ]
    },
    {
      "cell_type": "code",
      "execution_count": null,
      "metadata": {
        "id": "G6NmNClkphOr"
      },
      "outputs": [],
      "source": [
        "Magasin.V_table[etat]"
      ]
    },
    {
      "cell_type": "markdown",
      "metadata": {
        "id": "6X4iZClzpn27"
      },
      "source": [
        "##**3. Application des équations de Bellman**"
      ]
    },
    {
      "cell_type": "markdown",
      "metadata": {
        "id": "cL6oNtnsqCG8"
      },
      "source": [
        "On commence par initialiser l'environnement :"
      ]
    },
    {
      "cell_type": "code",
      "execution_count": null,
      "metadata": {
        "id": "OSgInL-Zpsij"
      },
      "outputs": [],
      "source": [
        "Magasin.RECOMPENSE = 1\n",
        "Magasin.RECOMPENSE_MUR = -20\n",
        "Magasin.RECOMPENSE_NON_CIBLE = -0.1\n",
        "Magasin.PROBA_MAX = 0.9\n",
        "\n",
        "Magasin.RAZ()"
      ]
    },
    {
      "cell_type": "markdown",
      "metadata": {
        "id": "PMAy4nJ5qFxV"
      },
      "source": [
        "Applique les équations de Bellman:\n",
        "\n",
        "- Valeur des états :\n",
        "\n",
        "$\\quad\\quad\\quad{V_\\pi }\\left( s \\right)={E_\\pi }\\left[ {{G_t}|{S_t} = s} \\right]$\n",
        "\n",
        "$\\quad\\quad\\quad\\quad\\quad\\quad= \\sum\\limits_a {\\pi \\left( {a|s} \\right)\\sum\\limits_{s'} {\\sum\\limits_r {p\\left( {s',r|s,a} \\right)} } } \\left[ {r + \\gamma {V_\\pi }\\left( {s'} \\right)} \\right]$\n",
        "<br>\n",
        "<br>\n",
        "- Valeur des actions :\n",
        "\n",
        "$\\quad\\quad\\quad{Q_\\pi }\\left( {s,a} \\right) = {E_\\pi }\\left[ {{G_t}|{S_t} = s,{A_t} = a} \\right]$\n",
        "\n",
        "$\\quad\\quad\\quad\\quad\\quad\\quad\\quad=\\sum\\limits_{s',r} {p\\left( {s',r|s,a} \\right)} \\left[ {r + \\gamma {V_\\pi }\\left( {s'} \\right)} \\right]$$"
      ]
    },
    {
      "cell_type": "code",
      "execution_count": null,
      "metadata": {
        "id": "7Q5qnwz7pwz8"
      },
      "outputs": [],
      "source": [
        "import numpy as np\n",
        "\n",
        "episodes = 5\n",
        "gamma = 0.5\n",
        "\n",
        "for i in range(episodes):\n",
        "  # Équation de Bellman - Fonction valeur d'actions\n",
        "  for etat in range(0,Magasin.nombre_etats):\n",
        "      for action in range(0,3):\n",
        "          for etat_suivant in range(0,3):\n",
        "              # Récupère la probabilité et la récompense\n",
        "              proba = Magasin.table_transitions[etat,action,etat_suivant]['proba_transition']\n",
        "              recompense = Magasin.table_transitions[etat,action,etat_suivant]['recompense']\n",
        "\n",
        "              # Fonction valeur d'actions\n",
        "              Magasin.Q_table[etat,action] = Magasin.Q_table[etat,action] + proba*(recompense + gamma*Magasin.V_table[etat_suivant])\n",
        "\n",
        "  # Mise à jour de la table des valeurs d'état\n",
        "  # avec une politique Greedy (pi(a|s) = 1 avec a=action greedy)\n",
        "  for etat in range(0,Magasin.nombre_etats):\n",
        "      index_max = np.where(Magasin.Q_table[etat,:] == np.amax(Magasin.Q_table[etat,:]))[0]\n",
        "      Magasin.V_table[etat] = Magasin.Q_table[etat,np.random.choice(index_max)]"
      ]
    },
    {
      "cell_type": "code",
      "execution_count": null,
      "metadata": {
        "id": "KYZCQ1t7p_O1"
      },
      "outputs": [],
      "source": [
        "Magasin.Getdf_Qtable()"
      ]
    },
    {
      "cell_type": "code",
      "execution_count": null,
      "metadata": {
        "id": "gWgquR92ssb5"
      },
      "outputs": [],
      "source": [
        "Magasin.Getdf_Vtable()"
      ]
    },
    {
      "cell_type": "markdown",
      "metadata": {
        "id": "Is-igHcpszOQ"
      },
      "source": [
        "#####**Affichage de la carte des valeurs d'états**"
      ]
    },
    {
      "cell_type": "code",
      "execution_count": null,
      "metadata": {
        "id": "4tDqBF-us924"
      },
      "outputs": [],
      "source": [
        "# Création de la colorMap\n",
        "Magasin.CreationColorMap()\n",
        "\n",
        "# Création des widgets\n",
        "widget_image = ipywidgets.Image(format='png',value=bgr8_to_jpeg(Magasin.image_Vtable),width=640)\n",
        "\n",
        "display(widget_image)"
      ]
    },
    {
      "cell_type": "markdown",
      "metadata": {
        "id": "LNW1xM50tKUC"
      },
      "source": [
        "#####**Affichage du parcours**"
      ]
    },
    {
      "cell_type": "code",
      "execution_count": null,
      "metadata": {
        "id": "Q0z0Z8tKtNOB"
      },
      "outputs": [],
      "source": [
        "# Création des widgets\n",
        "widget_image = ipywidgets.Image(format='png',value=bgr8_to_jpeg(Magasin.image_magasin_objectif),width=640)\n",
        "widget_iteration = ipywidgets.Text(value=\"0\",description=\"Itération: \")\n",
        "widget_etat = ipywidgets.Text(value=\"0\",description=\"État: \")\n",
        "\n",
        "widget_presentation = ipywidgets.VBox([widget_iteration,widget_etat,widget_image])"
      ]
    },
    {
      "cell_type": "code",
      "execution_count": null,
      "metadata": {
        "id": "ufGNmcaatSdB"
      },
      "outputs": [],
      "source": [
        "import time\n",
        "\n",
        "objectif_atteint = False\n",
        "max_iteration = 500\n",
        "freq_mise_a_jour = 10\n",
        "\n",
        "Magasin.InitImageTrajectoire()\n",
        "\n",
        "iteration = 0\n",
        "etat_courant = Magasin._ETAT_DEPART\n",
        "\n",
        "display(widget_presentation)\n",
        "\n",
        "time.sleep(1)\n",
        "\n",
        "while objectif_atteint is False and iteration <= max_iteration:\n",
        "    widget_etat.value = str(etat_courant)\n",
        "\n",
        "    # Récupère la table des valeurs d'action de l'état en cours\n",
        "    Q_ = Magasin.Q_table[etat_courant,:]\n",
        "\n",
        "    # Récupère l'action optimale\n",
        "    # si plusieurs actions sont optimales, alors tire une au hasard\n",
        "    action = np.random.choice(np.where(Q_ == np.max(Q_))[0])\n",
        "\n",
        "    # Simule l'action\n",
        "    etat_courant, image_ = Magasin.SimuleAction(etat_courant,action)\n",
        "\n",
        "    if etat_courant == Magasin.ETAT_CIBLE:\n",
        "        objectif_atteint = True\n",
        "\n",
        "    # Affiche la trajectoire\n",
        "    if iteration%freq_mise_a_jour == 0:\n",
        "      widget_image.value = bgr8_to_jpeg(image_)\n",
        "      widget_iteration.value = str(iteration+1)\n",
        "\n",
        "    iteration = iteration + 1\n",
        "    time.sleep(0.1)\n"
      ]
    },
    {
      "cell_type": "markdown",
      "source": [
        "##**4. Politique Epsilon-Greedy**"
      ],
      "metadata": {
        "id": "N0_yR_eHyuOo"
      }
    },
    {
      "cell_type": "code",
      "source": [
        "Magasin.RECOMPENSE = 1\n",
        "Magasin.RECOMPENSE_MUR = -20\n",
        "Magasin.RECOMPENSE_NON_CIBLE = -0.1\n",
        "Magasin.PROBA_MAX = 0.9\n",
        "\n",
        "Magasin.RAZ()"
      ],
      "metadata": {
        "id": "COadXkVTyyuk"
      },
      "execution_count": null,
      "outputs": []
    },
    {
      "cell_type": "markdown",
      "source": [
        "Applique les équations de Bellman:\n",
        "\n",
        "- Valeur des états :\n",
        "\n",
        "$\\quad\\quad\\quad{V_\\pi }\\left( s \\right)={E_\\pi }\\left[ {{G_t}|{S_t} = s} \\right]$\n",
        "\n",
        "$\\quad\\quad\\quad\\quad\\quad\\quad= \\sum\\limits_a {\\pi \\left( {a|s} \\right)\\sum\\limits_{s'} {\\sum\\limits_r {p\\left( {s',r|s,a} \\right)} } } \\left[ {r + \\gamma {V_\\pi }\\left( {s'} \\right)} \\right]$\n",
        "<br>\n",
        "<br>\n",
        "- Valeur des actions :\n",
        "\n",
        "$\\quad\\quad\\quad{Q_\\pi }\\left( {s,a} \\right) = {E_\\pi }\\left[ {{G_t}|{S_t} = s,{A_t} = a} \\right]$\n",
        "\n",
        "$\\quad\\quad\\quad\\quad\\quad\\quad\\quad=\\sum\\limits_{s',r} {p\\left( {s',r|s,a} \\right)} \\left[ {r + \\gamma {V_\\pi }\\left( {s'} \\right)} \\right]$$"
      ],
      "metadata": {
        "id": "Sdt3dfOmy-Ga"
      }
    },
    {
      "cell_type": "code",
      "source": [
        "import numpy as np\n",
        "import sys\n",
        "from scipy.special import softmax\n",
        "\n",
        "Epsilon = 0.5\n",
        "gamma = 0.5\n",
        "episodes = 5\n",
        "\n",
        "for i in range(episodes):\n",
        "  # Équation de Bellman - Fonction valeur d'actions\n",
        "  for etat in range(0,Magasin.nombre_etats):\n",
        "      for action in range(0,3):\n",
        "          for etat_suivant in range(0,3):\n",
        "              # Récupère la probabilité et la récompense\n",
        "              proba = Magasin.table_transitions[etat,action,etat_suivant]['proba_transition']\n",
        "              recompense = Magasin.table_transitions[etat,action,etat_suivant]['recompense']\n",
        "\n",
        "              # Equation de Bellman\n",
        "              Magasin.Q_table[etat,action] = Magasin.Q_table[etat,action] + proba*(recompense + gamma*Magasin.V_table[etat_suivant])\n",
        "\n",
        "  # Mise à jour de la table des valeurs d'état\n",
        "  # avec une politique Greedy\n",
        "  for etat in range(0,Magasin.nombre_etats):\n",
        "      # Calcul de pi(a|s) en suivant une stratégie Epsilon-Greedy\n",
        "      rng = np.random.default_rng()\n",
        "      val = rng.uniform()\n",
        "      if val > Epsilon:\n",
        "          pi_ = [1/3, 1/3, 1/3]\n",
        "          for action in range(0, 3):\n",
        "              # Equation de Bellman\n",
        "              Magasin.V_table[etat] = Magasin.V_table[etat] + pi_[action] * Magasin.Q_table[etat, action]\n",
        "      else:\n",
        "          index_max = np.where(Magasin.Q_table[etat, :] == np.amax(Magasin.Q_table[etat, :]))[0]\n",
        "          Magasin.V_table[etat] = Magasin.Q_table[etat, np.random.choice(index_max)]"
      ],
      "metadata": {
        "id": "wSHdledXy19I"
      },
      "execution_count": null,
      "outputs": []
    },
    {
      "cell_type": "code",
      "source": [
        "# Création de la colorMap\n",
        "Magasin.CreationColorMap()\n",
        "\n",
        "# Création des widgets\n",
        "widget_image_colorMap = ipywidgets.Image(format='png',value=bgr8_to_jpeg(Magasin.image_Vtable),width=640)\n",
        "\n",
        "display(widget_image_colorMap)"
      ],
      "metadata": {
        "id": "-OjSLOd7zCe4"
      },
      "execution_count": null,
      "outputs": []
    },
    {
      "cell_type": "code",
      "source": [
        "# Création des widgets\n",
        "widget_image = ipywidgets.Image(format='png',value=bgr8_to_jpeg(Magasin.image_magasin_objectif),width=640)\n",
        "widget_iteration = ipywidgets.Text(value=\"0\",description=\"Itération: \")\n",
        "widget_etat = ipywidgets.Text(value=\"0\",description=\"État: \")\n",
        "\n",
        "widget_presentation = ipywidgets.VBox([widget_iteration,widget_etat,widget_image])"
      ],
      "metadata": {
        "id": "s6i0gnuWzGBw"
      },
      "execution_count": null,
      "outputs": []
    },
    {
      "cell_type": "code",
      "source": [
        "import time\n",
        "\n",
        "objectif_atteint = False\n",
        "max_iteration = 500\n",
        "freq_mise_a_jour = 10\n",
        "\n",
        "Magasin.InitImageTrajectoire()\n",
        "\n",
        "iteration = 0\n",
        "etat_courant = Magasin._ETAT_DEPART\n",
        "\n",
        "display(widget_presentation)\n",
        "\n",
        "time.sleep(1)\n",
        "\n",
        "while objectif_atteint is False and iteration <= max_iteration:\n",
        "    widget_etat.value = str(etat_courant)\n",
        "\n",
        "    # Récupère la table des valeurs d'action de l'état en cours\n",
        "    Q_ = Magasin.Q_table[etat_courant,:]\n",
        "\n",
        "    # Récupère l'action optimale\n",
        "    # si plusieurs actions sont optimales, alors tire une au hasard\n",
        "    action = np.random.choice(np.where(Q_ == np.max(Q_))[0])\n",
        "\n",
        "    # Simule l'action\n",
        "    etat_courant, image_ = Magasin.SimuleAction(etat_courant,action)\n",
        "\n",
        "    if etat_courant == Magasin.ETAT_CIBLE:\n",
        "        objectif_atteint = True\n",
        "\n",
        "    # Affiche la trajectoire\n",
        "    if iteration%freq_mise_a_jour == 0:\n",
        "      widget_image.value = bgr8_to_jpeg(image_)\n",
        "      widget_iteration.value = str(iteration+1)\n",
        "\n",
        "    iteration = iteration + 1\n",
        "    time.sleep(0.1)"
      ],
      "metadata": {
        "id": "Fr_g6OrMzKyZ"
      },
      "execution_count": null,
      "outputs": []
    }
  ],
  "metadata": {
    "colab": {
      "name": "2. Exemple application Bellman.ipynb",
      "provenance": [],
      "collapsed_sections": []
    },
    "kernelspec": {
      "display_name": "Python 3",
      "name": "python3"
    },
    "language_info": {
      "name": "python"
    }
  },
  "nbformat": 4,
  "nbformat_minor": 0
}