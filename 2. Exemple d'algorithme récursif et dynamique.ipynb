{
  "cells": [
    {
      "cell_type": "markdown",
      "metadata": {
        "id": "XGJ8yJ8W_3sA"
      },
      "source": [
        "#**Programmation Dynamique**"
      ]
    },
    {
      "cell_type": "markdown",
      "metadata": {
        "id": "sZ1BfXx-VlXG"
      },
      "source": [
        "##**2. Exemple : programmation récursive et programmation dynamique**"
      ]
    },
    {
      "cell_type": "markdown",
      "source": [
        "Nous allons comparer deux méthodes permettant de calculer la suite de Fibonacci:\n",
        "\n",
        "$$0,1,1,2,3,5,8,13,21,34,55,...$$\n",
        "\n",
        "La séquence est obtenue en additionnant les deux nombres précédents."
      ],
      "metadata": {
        "id": "cTcv5350DbWM"
      }
    },
    {
      "cell_type": "markdown",
      "source": [
        "**Algorithme récursif**"
      ],
      "metadata": {
        "id": "XvT_C1nRFYtQ"
      }
    },
    {
      "cell_type": "markdown",
      "source": [
        "Le programme ci-dessous calcule la suite de manière récursive en utilisant la suite:\n",
        "$$\\left\\{ \\begin{array}{l}\n",
        "{U_1} = {U_2} =  1\\\\\n",
        "{U_n} = {U_{n - 1}} + {U_{n - 2}}\\:\\: si \\:\\: n>2\n",
        "\\end{array} \\right.$$"
      ],
      "metadata": {
        "id": "2mVY2RwcEO10"
      }
    },
    {
      "cell_type": "code",
      "source": [
        "%%time\n",
        "\n",
        "# Méthode récursive\n",
        "n = 35\n",
        "\n",
        "def recurFib(n):\n",
        "    # U1=U2=1\n",
        "    if ((n == 1) or (n==2)):\n",
        "        return 1\n",
        "      \n",
        "    # Un = Un_1 + Un_2\n",
        "    if (n>2):\n",
        "        return (recurFib(n-1)+recurFib(n-2))\n",
        "\n",
        "print(\"Valeur de la séquence (n=%d): %d\" %(n,recurFib(n)))"
      ],
      "metadata": {
        "id": "JNc0pz2BEMol"
      },
      "execution_count": null,
      "outputs": []
    },
    {
      "cell_type": "markdown",
      "source": [
        "L'algorithme utilisé peut être schématisé par le diagramme ci-dessous:"
      ],
      "metadata": {
        "id": "hfMsLsfMFlmG"
      }
    },
    {
      "cell_type": "markdown",
      "source": [
        "<center><img src=\"https://github.com/AlexandreBourrieau/FICHIERS/blob/main/RL/Concept_RL18.png?raw=true\" width=\"1024\"></center>"
      ],
      "metadata": {
        "id": "kkS2KY0GGWI4"
      }
    },
    {
      "cell_type": "markdown",
      "source": [
        "On peut voir que de nombreuses valeurs sont recalculées lors des appels récursifs. Ainsi, si l'algorithme est capable de garder en mémoire certaines valeurs déjà calculées (comme par exemple recurFib1, recurFib2, recurFib3, etc..) alors l'exécution serait plus efficiente. Nous pouvons faire cela à l'aide de la programmation dynamique."
      ],
      "metadata": {
        "id": "7pF963JlGt1v"
      }
    },
    {
      "cell_type": "markdown",
      "source": [
        "**Algorithme dynamique**"
      ],
      "metadata": {
        "id": "eAHrFS8XFdnF"
      }
    },
    {
      "cell_type": "markdown",
      "source": [
        "Comme nous l'avons vu, l'algorithme de programmation dynamique commence par trouver les solutions des plus petits sous-problèmes. Ensuite, il utilise ces solutions pour résoudre des sous-problèmes un peu plus complexe, et ainsi de suite jusqu'à ce que le problème principal soit solutionné. Les solutions des sous-problèmes sont sauvegardées en mémoire.\n",
        "\n",
        "Dans notre cas, nous allons donc sauvegarder les résultats de recurFib0, recurFib1, recurFib3, etc... dans une liste. L'algorithme utilisé va donc calculer ces valeurs une seule fois.\n"
      ],
      "metadata": {
        "id": "9y8T2HVqFjoV"
      }
    },
    {
      "cell_type": "markdown",
      "source": [
        "Le diagramme ci-dessous décrit comment est mis en place l'algorithme dans le cas où la valeur à calculer est pour n=5. L'algorithme est construit de sorte que les valeurs intermédiaires soient sauvegardées. Ici, on sauvegarde les valeurs recurFibN (N=0,1,2,3,4). On peut voir que recurFib3 et recurFib2 par exemple peuvent être directement tiré de la mémoire plutôt qu'être calculés."
      ],
      "metadata": {
        "id": "YoP3PQm1KSi8"
      }
    },
    {
      "cell_type": "markdown",
      "source": [
        "<center><img src=\"https://github.com/AlexandreBourrieau/FICHIERS/blob/main/RL/Concept_RL19.png?raw=true\" width=\"1024\"></center>"
      ],
      "metadata": {
        "id": "c2Y_b1kmKKcd"
      }
    },
    {
      "cell_type": "code",
      "source": [
        "%%time\n",
        "\n",
        "# Méthode dynamique\n",
        "\n",
        "n = 35\n",
        "\n",
        "def recurFib(n, memo):\n",
        "    if (memo[n]!= None):\n",
        "        return memo[n]\n",
        "\n",
        "    # U1=U2=1\n",
        "    if ((n == 1) or (n == 2)):\n",
        "        result = 1\n",
        "    else:\n",
        "        result = recurFib(n-1, memo) + recurFib(n-2, memo)\n",
        "    memo[n] = result\n",
        "    return result\n",
        "\n",
        "\n",
        "def fib_memo(n):\n",
        "    # Initialise l'espace mémoire\n",
        "    memo = [None]*(n+1)\n",
        "\n",
        "    # Calcul de la séquence\n",
        "    return recurFib(n, memo)\n",
        "\n",
        "\n",
        "print(\"Valeur de la séquence (n=%d): %d\" %(n,fib_memo(n)))"
      ],
      "metadata": {
        "id": "4z_u42PuK5jP"
      },
      "execution_count": null,
      "outputs": []
    }
  ],
  "metadata": {
    "colab": {
      "name": "1. Introduction à la programmation dynamique.ipynb",
      "provenance": [],
      "collapsed_sections": []
    },
    "kernelspec": {
      "display_name": "Python 3",
      "name": "python3"
    },
    "language_info": {
      "name": "python"
    }
  },
  "nbformat": 4,
  "nbformat_minor": 0
}