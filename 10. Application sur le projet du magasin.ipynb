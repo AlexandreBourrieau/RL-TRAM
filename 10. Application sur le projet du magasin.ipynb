{
  "cells": [
    {
      "cell_type": "markdown",
      "metadata": {
        "id": "XGJ8yJ8W_3sA"
      },
      "source": [
        "#**Application de la méthode par itération des valeurs sur le projet Magasin**"
      ]
    },
    {
      "cell_type": "markdown",
      "metadata": {
        "id": "sZ1BfXx-VlXG"
      },
      "source": [
        "##**1. Téléchargement du programme Python**"
      ]
    },
    {
      "cell_type": "code",
      "execution_count": null,
      "metadata": {
        "id": "HqSTPwgUdiPc"
      },
      "outputs": [],
      "source": [
        "!git clone \"https://github.com/AlexandreBourrieau/ApplicationRL.git\""
      ]
    },
    {
      "cell_type": "code",
      "execution_count": null,
      "metadata": {
        "id": "BN6clL6qiaA8"
      },
      "outputs": [],
      "source": [
        "import os\n",
        "import sys\n",
        "\n",
        "sys.path.insert(1, \"/content/ApplicationRL\")"
      ]
    },
    {
      "cell_type": "code",
      "execution_count": null,
      "metadata": {
        "id": "_nfBhG1OfdHt"
      },
      "outputs": [],
      "source": [
        "!pip -q install meshio"
      ]
    },
    {
      "cell_type": "markdown",
      "metadata": {
        "id": "dyBVL4yAdqXs"
      },
      "source": [
        "##**2. Mise en place de l'environnement de travail**"
      ]
    },
    {
      "cell_type": "code",
      "execution_count": null,
      "metadata": {
        "id": "-aMQdQQUd6UD"
      },
      "outputs": [],
      "source": [
        "from magasin import Magasin\n",
        "from utils import bgr8_to_jpeg\n",
        "import ipywidgets\n",
        "import numpy as np\n",
        "\n",
        "from IPython.display import display"
      ]
    },
    {
      "cell_type": "markdown",
      "metadata": {
        "id": "cEUGbRcedypL"
      },
      "source": [
        "#####**2.1 Instanciation de la classe Magasin**"
      ]
    },
    {
      "cell_type": "code",
      "execution_count": null,
      "metadata": {
        "id": "UCNAws5ogqli"
      },
      "outputs": [],
      "source": [
        "Magasin = Magasin(\"ApplicationRL/maillage_carte.msh\",\"ApplicationRL/image_magasin.png\")"
      ]
    },
    {
      "cell_type": "code",
      "source": [
        "Magasin.RECOMPENSE = 1\n",
        "Magasin.RECOMPENSE_MUR = -10\n",
        "Magasin.RECOMPENSE_NON_CIBLE = 0\n",
        "Magasin.PROBA_MAX = 0.98\n",
        "\n",
        "Magasin.RAZ()"
      ],
      "metadata": {
        "id": "GGBSFAyW27Tg"
      },
      "execution_count": null,
      "outputs": []
    },
    {
      "cell_type": "markdown",
      "metadata": {
        "id": "hvfO0TPMn0Tj"
      },
      "source": [
        "#####**2.2 Saisie de l'objectif**"
      ]
    },
    {
      "cell_type": "code",
      "execution_count": null,
      "metadata": {
        "id": "_5OTyzeQn37g"
      },
      "outputs": [],
      "source": [
        "def AfficheSelectionImage(change):\n",
        "    numero = change['new']\n",
        "    Magasin.ETAT_CIBLE = numero\n",
        "    widget_image.value = bgr8_to_jpeg(Magasin.AfficheObjectifSurImage())"
      ]
    },
    {
      "cell_type": "code",
      "execution_count": null,
      "metadata": {
        "id": "6w0fBkuEn7CA"
      },
      "outputs": [],
      "source": [
        "# Création des widgets\n",
        "widget_image = ipywidgets.Image(format='png',value=bgr8_to_jpeg(Magasin.image_magasin),width=640)\n",
        "slider_numero = ipywidgets.IntSlider(value=80,min=0,max=Magasin.nombre_etats-1)\n",
        "\n",
        "# Création du lien avec le slider\n",
        "slider_numero.observe(AfficheSelectionImage, names='value')\n",
        "\n",
        "# Création de l'interface d'acquisition\n",
        "widget_presentation = ipywidgets.VBox([widget_image, slider_numero])\n",
        "\n",
        "display(widget_presentation)"
      ]
    },
    {
      "cell_type": "markdown",
      "metadata": {
        "id": "6X4iZClzpn27"
      },
      "source": [
        "##**3. Algorithme par itération des valeurs**"
      ]
    },
    {
      "cell_type": "markdown",
      "metadata": {
        "id": "cL6oNtnsqCG8"
      },
      "source": [
        "On commence par initialiser l'environnement :"
      ]
    },
    {
      "cell_type": "code",
      "execution_count": null,
      "metadata": {
        "id": "OSgInL-Zpsij"
      },
      "outputs": [],
      "source": [
        "Magasin.RECOMPENSE = 50\n",
        "Magasin.RECOMPENSE_MUR = -0.1\n",
        "Magasin.RECOMPENSE_NON_CIBLE = -0.1\n",
        "Magasin.PROBA_MAX = 0.9\n",
        "\n",
        "Magasin.RAZ()"
      ]
    },
    {
      "cell_type": "markdown",
      "source": [
        "L'algorithme par itération des valeurs à utilisé est donné ci-dessous: "
      ],
      "metadata": {
        "id": "iN5nvsIFT2GQ"
      }
    },
    {
      "cell_type": "markdown",
      "source": [
        "<center><img src=\"https://github.com/AlexandreBourrieau/FICHIERS/blob/main/RL/Concept_RL31.png?raw=true\" width=\"700\"></center>"
      ],
      "metadata": {
        "id": "eK6ip322UChh"
      }
    },
    {
      "cell_type": "code",
      "source": [
        "# Algorithme d'itération des valeurs \n",
        "gamma = 0.9     # Facteur de remise\n",
        "theta = 1e-10   # Seuil de précision\n",
        "\n",
        "# Initialisation de la fonction des valeurs d'états à 0\n",
        "Magasin.V_table = np.zeros(Magasin.nombre_etats, dtype=np.float32)\n",
        "V_ = np.zeros(Magasin.nombre_etats, dtype=np.float32)\n",
        "\n",
        "\n",
        "# Répétition de l'algorithme jusqu'à convergence\n",
        "delta = 2*theta\n",
        "\n",
        "while delta > theta:\n",
        "  # Pour chaque état de l'environnement\n",
        "  for etat in range(Magasin.nombre_etats):\n",
        "    # Initialise la fonction de valeurs d'états pour chaque action à 0\n",
        "    V = np.zeros((3), dtype=np.float32)\n",
        "\n",
        "    # Calcule la nouvelle valeur de l'état en cours à l'aide\n",
        "    # de l'équation optimale des valeurs d'états de Bellman\n",
        "    for action in range(3):\n",
        "      # Calcul la valeur de l'état en cours pour l'action courante\n",
        "      # ainsi que les valeurs d'actions\n",
        "      for etat_suivant in range(3):\n",
        "        proba = Magasin.table_transitions[etat,action,etat_suivant]['proba_transition']\n",
        "        recompense = Magasin.table_transitions[etat,action,etat_suivant]['recompense']\n",
        "        index_etat_suivant = Magasin.table_transitions[etat,action,etat_suivant]['index_etat_suivant']\n",
        "\n",
        "        # Itération de la valeur de l'état courant pour l'action en cours\n",
        "        V[action] += proba*(recompense + gamma*Magasin.V_table[index_etat_suivant])\n",
        "\n",
        "        # Itération de la valeur des actions \n",
        "        Magasin.Q_table[etat,action] +=  proba*(recompense + gamma*Magasin.V_table[index_etat_suivant])\n",
        "\n",
        "    # Enregistre la valeur d'état maximale parmi toutes les actions\n",
        "    Magasin.V_table[etat] = np.amax(V)\n",
        "    \n",
        "  # Compare la fonction des valeurs des états obtenue avec la précédente\n",
        "  delta = np.max(np.abs(V_ - Magasin.V_table))\n",
        "  print(delta)\n",
        "\n",
        "  # Sauvegarde la fonction des valeurs des états pour la prochaine itération\n",
        "  V_ = Magasin.V_table.copy()"
      ],
      "metadata": {
        "id": "BcHD_ZRjUOni"
      },
      "execution_count": null,
      "outputs": []
    },
    {
      "cell_type": "code",
      "execution_count": null,
      "metadata": {
        "id": "gWgquR92ssb5"
      },
      "outputs": [],
      "source": [
        "Magasin.Getdf_Vtable()"
      ]
    },
    {
      "cell_type": "markdown",
      "metadata": {
        "id": "Is-igHcpszOQ"
      },
      "source": [
        "#####**Affichage de la carte des valeurs d'états**"
      ]
    },
    {
      "cell_type": "code",
      "execution_count": null,
      "metadata": {
        "id": "4tDqBF-us924"
      },
      "outputs": [],
      "source": [
        "# Création de la colorMap\n",
        "Magasin.CreationColorMap()\n",
        "\n",
        "# Création des widgets\n",
        "widget_image = ipywidgets.Image(format='png',value=bgr8_to_jpeg(Magasin.image_Vtable),width=640)\n",
        "\n",
        "display(widget_image)"
      ]
    },
    {
      "cell_type": "markdown",
      "metadata": {
        "id": "LNW1xM50tKUC"
      },
      "source": [
        "#####**Affichage du parcours**"
      ]
    },
    {
      "cell_type": "code",
      "execution_count": null,
      "metadata": {
        "id": "KYZCQ1t7p_O1"
      },
      "outputs": [],
      "source": [
        "Magasin.Getdf_Qtable()"
      ]
    },
    {
      "cell_type": "code",
      "execution_count": null,
      "metadata": {
        "id": "Q0z0Z8tKtNOB"
      },
      "outputs": [],
      "source": [
        "# Création des widgets\n",
        "widget_image = ipywidgets.Image(format='png',value=bgr8_to_jpeg(Magasin.image_magasin_objectif),width=640)\n",
        "widget_iteration = ipywidgets.Text(value=\"0\",description=\"Itération: \")\n",
        "widget_etat = ipywidgets.Text(value=\"0\",description=\"État: \")\n",
        "\n",
        "widget_presentation = ipywidgets.VBox([widget_iteration,widget_etat,widget_image])"
      ]
    },
    {
      "cell_type": "code",
      "execution_count": null,
      "metadata": {
        "id": "ufGNmcaatSdB"
      },
      "outputs": [],
      "source": [
        "import time\n",
        "\n",
        "objectif_atteint = False\n",
        "max_iteration = 500\n",
        "freq_mise_a_jour = 1\n",
        "\n",
        "Magasin.InitImageTrajectoire()\n",
        "\n",
        "iteration = 0\n",
        "etat_courant = Magasin._ETAT_DEPART\n",
        "\n",
        "display(widget_presentation)\n",
        "\n",
        "time.sleep(1)\n",
        "\n",
        "while objectif_atteint is False and iteration <= max_iteration:\n",
        "    widget_etat.value = str(etat_courant)\n",
        "\n",
        "    # Récupère la table des valeurs d'action de l'état en cours\n",
        "    Q_ = Magasin.Q_table[etat_courant,:]\n",
        "\n",
        "    # Récupère l'action optimale\n",
        "    # si plusieurs actions sont optimales, alors tire une au hasard\n",
        "    #action = np.random.choice(np.where(Q_ == np.max(Q_))[0])\n",
        "    action = np.argmax(Q_)\n",
        "\n",
        "    # Simule l'action\n",
        "    etat_courant, image_ = Magasin.SimuleAction(etat_courant,action)\n",
        "\n",
        "    if etat_courant == Magasin.ETAT_CIBLE:\n",
        "        objectif_atteint = True\n",
        "\n",
        "    # Affiche la trajectoire\n",
        "    if iteration%freq_mise_a_jour == 0:\n",
        "      widget_image.value = bgr8_to_jpeg(image_)\n",
        "      widget_iteration.value = str(iteration+1)\n",
        "\n",
        "    iteration = iteration + 1\n",
        "    time.sleep(0.7)\n"
      ]
    }
  ],
  "metadata": {
    "colab": {
      "name": "10. Application sur le projet du magasin.ipynb",
      "provenance": [],
      "collapsed_sections": []
    },
    "kernelspec": {
      "display_name": "Python 3",
      "name": "python3"
    },
    "language_info": {
      "name": "python"
    }
  },
  "nbformat": 4,
  "nbformat_minor": 0
}